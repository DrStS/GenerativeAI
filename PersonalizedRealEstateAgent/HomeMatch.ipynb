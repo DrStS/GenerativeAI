{
 "cells": [
  {
   "cell_type": "markdown",
   "id": "ffba567a-963e-49db-a1b9-4a7a84fad2a0",
   "metadata": {},
   "source": [
    "This is a starter notebook for the project, you'll have to import the libraries you'll need, you can find a list of the ones available in this workspace in the requirements.txt file in this workspace."
   ]
  },
  {
   "cell_type": "code",
   "execution_count": 43,
   "id": "55a7bef6-2d24-4c27-a1e8-6f93f4c1c68f",
   "metadata": {},
   "outputs": [],
   "source": [
    "import os\n",
    "import codecs\n",
    "from langchain_community.chat_models import ChatOpenAI\n",
    "from langchain.prompts import PromptTemplate\n",
    "import pandas as pd\n",
    "from langchain.document_loaders.csv_loader import CSVLoader\n",
    "from langchain.text_splitter import CharacterTextSplitter\n",
    "from langchain.vectorstores import Chroma\n",
    "from langchain.embeddings.openai import OpenAIEmbeddings\n",
    "from langchain.memory import ConversationSummaryMemory, ChatMessageHistory\n",
    "from langchain.chains.conversational_retrieval.base import ConversationalRetrievalChain\n",
    "\n",
    "os.environ[\"OPENAI_API_KEY\"] = \"voc-11256873311266773806418679d499cb5f2e3.94899606\"\n",
    "os.environ[\"OPENAI_API_BASE\"] = \"https://openai.vocareum.com/v1\""
   ]
  },
  {
   "cell_type": "code",
   "execution_count": 44,
   "id": "d3377b68-4b41-4bb3-b00a-67c34ef64a84",
   "metadata": {},
   "outputs": [],
   "source": [
    "model_name = \"gpt-3.5-turbo\"\n",
    "temperature = 0.0\n",
    "llmOpenAI = ChatOpenAI(model_name=model_name, temperature=temperature, max_tokens = 500)"
   ]
  },
  {
   "cell_type": "code",
   "execution_count": 45,
   "id": "cf7f8028-4d2d-4b9c-8dd1-3c6e05a16678",
   "metadata": {},
   "outputs": [],
   "source": [
    "prompt = '''\n",
    "generate a csv file that store information about {topic} \n",
    "make sure to include the following attriutes {attributes}. use a real word examples.\n",
    "generate {rows} rows\n",
    "\n",
    "print the data only without intro or end\n",
    "'''\n",
    "prompt_template = PromptTemplate(template=prompt, input_variables=['topic', 'attributes', 'rows'])"
   ]
  },
  {
   "cell_type": "code",
   "execution_count": 46,
   "id": "096052a7-6e8c-4eb1-82fa-aa6b60da12d2",
   "metadata": {},
   "outputs": [
    {
     "name": "stdout",
     "output_type": "stream",
     "text": [
      "\n",
      "generate a csv file that store information about Homes \n",
      "make sure to include the following attriutes Neighborhood, location, bedrooms, bathrooms, house size (m^2), price (k€). use a real word examples.\n",
      "generate 12 rows\n",
      "\n",
      "print the data only without intro or end\n",
      "\n"
     ]
    }
   ],
   "source": [
    "promt_houses=prompt_template.format(topic=\"Homes\", attributes=\"Neighborhood, location, bedrooms, bathrooms, house size (m^2), price (k€)\", rows=\"12\")\n",
    "print(promt_houses)"
   ]
  },
  {
   "cell_type": "code",
   "execution_count": 47,
   "id": "29f31e7a-9a99-4e9a-a775-4e530f31b84d",
   "metadata": {},
   "outputs": [],
   "source": [
    "res = llmOpenAI.invoke(promt_houses)"
   ]
  },
  {
   "cell_type": "code",
   "execution_count": 48,
   "id": "8b0e1b99-d165-4675-b0b4-5c00470e9782",
   "metadata": {},
   "outputs": [
    {
     "name": "stdout",
     "output_type": "stream",
     "text": [
      "Neighborhood,Location,Bedrooms,Bathrooms,House Size (m^2),Price (k€)\n",
      "West Hollywood,Los Angeles,3,2,150,1200\n",
      "Upper East Side,New York City,4,3,200,1800\n",
      "South Beach,Miami,2,1,100,800\n",
      "Georgetown,Washington D.C.,5,4,300,2500\n",
      "Pacific Heights,San Francisco,3,2,180,1500\n",
      "Old Town,Chicago,4,3,220,1900\n",
      "Beverly Hills,Los Angeles,5,5,400,3500\n",
      "Back Bay,Boston,2,1,120,1000\n",
      "Downtown,Seattle,3,2,160,1300\n",
      "South End,Boston,4,3,220,1800\n",
      "South Loop,Chicago,2,1,110,900\n"
     ]
    }
   ],
   "source": [
    "print(res.content)"
   ]
  },
  {
   "cell_type": "code",
   "execution_count": 49,
   "id": "f3d621ec-dc8e-4d82-9181-3280580c6f82",
   "metadata": {},
   "outputs": [
    {
     "data": {
      "text/html": [
       "<div>\n",
       "<style scoped>\n",
       "    .dataframe tbody tr th:only-of-type {\n",
       "        vertical-align: middle;\n",
       "    }\n",
       "\n",
       "    .dataframe tbody tr th {\n",
       "        vertical-align: top;\n",
       "    }\n",
       "\n",
       "    .dataframe thead th {\n",
       "        text-align: right;\n",
       "    }\n",
       "</style>\n",
       "<table border=\"1\" class=\"dataframe\">\n",
       "  <thead>\n",
       "    <tr style=\"text-align: right;\">\n",
       "      <th></th>\n",
       "      <th>Neighborhood</th>\n",
       "      <th>Location</th>\n",
       "      <th>Bedrooms</th>\n",
       "      <th>Bathrooms</th>\n",
       "      <th>House Size (m^2)</th>\n",
       "      <th>Price (k€)</th>\n",
       "    </tr>\n",
       "  </thead>\n",
       "  <tbody>\n",
       "    <tr>\n",
       "      <th>0</th>\n",
       "      <td>West Hollywood</td>\n",
       "      <td>Los Angeles</td>\n",
       "      <td>3</td>\n",
       "      <td>2</td>\n",
       "      <td>150</td>\n",
       "      <td>1200</td>\n",
       "    </tr>\n",
       "    <tr>\n",
       "      <th>1</th>\n",
       "      <td>Upper East Side</td>\n",
       "      <td>New York City</td>\n",
       "      <td>4</td>\n",
       "      <td>3</td>\n",
       "      <td>200</td>\n",
       "      <td>1800</td>\n",
       "    </tr>\n",
       "    <tr>\n",
       "      <th>2</th>\n",
       "      <td>South Beach</td>\n",
       "      <td>Miami</td>\n",
       "      <td>2</td>\n",
       "      <td>1</td>\n",
       "      <td>100</td>\n",
       "      <td>800</td>\n",
       "    </tr>\n",
       "    <tr>\n",
       "      <th>3</th>\n",
       "      <td>Georgetown</td>\n",
       "      <td>Washington D.C.</td>\n",
       "      <td>5</td>\n",
       "      <td>4</td>\n",
       "      <td>300</td>\n",
       "      <td>2500</td>\n",
       "    </tr>\n",
       "    <tr>\n",
       "      <th>4</th>\n",
       "      <td>Pacific Heights</td>\n",
       "      <td>San Francisco</td>\n",
       "      <td>3</td>\n",
       "      <td>2</td>\n",
       "      <td>180</td>\n",
       "      <td>1500</td>\n",
       "    </tr>\n",
       "    <tr>\n",
       "      <th>5</th>\n",
       "      <td>Old Town</td>\n",
       "      <td>Chicago</td>\n",
       "      <td>4</td>\n",
       "      <td>3</td>\n",
       "      <td>220</td>\n",
       "      <td>1900</td>\n",
       "    </tr>\n",
       "    <tr>\n",
       "      <th>6</th>\n",
       "      <td>Beverly Hills</td>\n",
       "      <td>Los Angeles</td>\n",
       "      <td>5</td>\n",
       "      <td>5</td>\n",
       "      <td>400</td>\n",
       "      <td>3500</td>\n",
       "    </tr>\n",
       "    <tr>\n",
       "      <th>7</th>\n",
       "      <td>Back Bay</td>\n",
       "      <td>Boston</td>\n",
       "      <td>2</td>\n",
       "      <td>1</td>\n",
       "      <td>120</td>\n",
       "      <td>1000</td>\n",
       "    </tr>\n",
       "    <tr>\n",
       "      <th>8</th>\n",
       "      <td>Downtown</td>\n",
       "      <td>Seattle</td>\n",
       "      <td>3</td>\n",
       "      <td>2</td>\n",
       "      <td>160</td>\n",
       "      <td>1300</td>\n",
       "    </tr>\n",
       "    <tr>\n",
       "      <th>9</th>\n",
       "      <td>South End</td>\n",
       "      <td>Boston</td>\n",
       "      <td>4</td>\n",
       "      <td>3</td>\n",
       "      <td>220</td>\n",
       "      <td>1800</td>\n",
       "    </tr>\n",
       "    <tr>\n",
       "      <th>10</th>\n",
       "      <td>South Loop</td>\n",
       "      <td>Chicago</td>\n",
       "      <td>2</td>\n",
       "      <td>1</td>\n",
       "      <td>110</td>\n",
       "      <td>900</td>\n",
       "    </tr>\n",
       "  </tbody>\n",
       "</table>\n",
       "</div>"
      ],
      "text/plain": [
       "       Neighborhood         Location  Bedrooms  Bathrooms  House Size (m^2)  \\\n",
       "0    West Hollywood      Los Angeles         3          2               150   \n",
       "1   Upper East Side    New York City         4          3               200   \n",
       "2       South Beach            Miami         2          1               100   \n",
       "3        Georgetown  Washington D.C.         5          4               300   \n",
       "4   Pacific Heights    San Francisco         3          2               180   \n",
       "5          Old Town          Chicago         4          3               220   \n",
       "6     Beverly Hills      Los Angeles         5          5               400   \n",
       "7          Back Bay           Boston         2          1               120   \n",
       "8          Downtown          Seattle         3          2               160   \n",
       "9         South End           Boston         4          3               220   \n",
       "10       South Loop          Chicago         2          1               110   \n",
       "\n",
       "    Price (k€)  \n",
       "0         1200  \n",
       "1         1800  \n",
       "2          800  \n",
       "3         2500  \n",
       "4         1500  \n",
       "5         1900  \n",
       "6         3500  \n",
       "7         1000  \n",
       "8         1300  \n",
       "9         1800  \n",
       "10         900  "
      ]
     },
     "execution_count": 49,
     "metadata": {},
     "output_type": "execute_result"
    }
   ],
   "source": [
    "with codecs.open(\"houses.csv\", \"w\", \"utf-8\") as file:\n",
    "    file.write(res.content)\n",
    "df = pd.read_csv('houses.csv')\n",
    "df"
   ]
  },
  {
   "cell_type": "code",
   "execution_count": 50,
   "id": "42f286d8-5a94-4bc9-8e75-270035cb7147",
   "metadata": {},
   "outputs": [],
   "source": [
    "loader = CSVLoader(file_path='houses.csv')\n",
    "docs = loader.load()"
   ]
  },
  {
   "cell_type": "code",
   "execution_count": 51,
   "id": "6f413c88-0727-4777-a1fe-083d56dcf511",
   "metadata": {},
   "outputs": [],
   "source": [
    "temperature = 1\n",
    "llmOpenAI = ChatOpenAI(model_name=model_name, temperature=temperature, max_tokens = 1000)"
   ]
  },
  {
   "cell_type": "code",
   "execution_count": 52,
   "id": "56971829-80ea-477c-b06c-43f574c2e5f9",
   "metadata": {},
   "outputs": [],
   "source": [
    "splitter = CharacterTextSplitter(chunk_size=1000, chunk_overlap=0)\n",
    "split_docs = splitter.split_documents(docs)\n",
    "embeddings = OpenAIEmbeddings()\n",
    "db = Chroma.from_documents(documents=split_docs, embedding=embeddings)"
   ]
  },
  {
   "cell_type": "code",
   "execution_count": 58,
   "id": "9affc421-be91-41ad-9ae3-1cda9ef313cc",
   "metadata": {},
   "outputs": [],
   "source": [
    "personal_questions = [   \n",
    "    \"How big do you want your house to be?\" \n",
    "    \"What are 3 most important things for you in choosing this property?\", \n",
    "    \"Which amenities would you like?\", \n",
    "    \"Which transportation options are important to you?\",\n",
    "    \"How urban do you want your neighborhood to be?\",   \n",
    "]\n",
    "\n",
    "personal_answers = answers = [\n",
    "    \"A comfortable three-bedroom house with a spacious kitchen and a cozy living room.\",\n",
    "    \"A quiet neighborhood, good local schools, and convenient shopping options.\",\n",
    "    \"A backyard for gardening, a two-car garage, and a modern, energy-efficient heating system.\",\n",
    "    \"Easy access to a reliable bus line, proximity to a major highway, and bike-friendly roads.\",\n",
    "    \"A balance between suburban tranquility and access to urban amenities like restaurants and theaters.\"\n",
    "]"
   ]
  },
  {
   "cell_type": "code",
   "execution_count": 59,
   "id": "4001c558-08f0-427f-8ba6-9af65063a614",
   "metadata": {},
   "outputs": [],
   "source": [
    "history = ChatMessageHistory()\n",
    "history.add_user_message(f\"\"\"You are AI sales assisstant that will recommend user a home based on their answers to personal questions. Ask user {len(personal_questions)} questions\"\"\")\n",
    "for i in range(len(personal_questions)):\n",
    "    history.add_ai_message(personal_questions[i])\n",
    "    history.add_user_message(personal_answers[i])\n",
    "    \n",
    "history.add_ai_message(\"\"\"Now tell me a summary of a home you're considering in points\"\"\")\n",
    "memory = ConversationSummaryMemory(\n",
    "    llm=llmOpenAI,\n",
    "    chat_memory=history,\n",
    "    memory_key=\"chat_history\", \n",
    "    input_key=\"question\",\n",
    "    buffer=f\"The human answered {len(personal_questions)} personal questions. Use them to extract home attributes like location, price, home area and number of rooms\",\n",
    "    return_messages=True)"
   ]
  },
  {
   "cell_type": "code",
   "execution_count": 60,
   "id": "0c2901dc-3b18-4b72-8b53-646ce41ea919",
   "metadata": {},
   "outputs": [
    {
     "name": "stdout",
     "output_type": "stream",
     "text": [
      "input_variables=['chat_history', 'context', 'question'] input_types={} partial_variables={} template=\"You are an sales assistant who buy homes. Use the following pieces of retrieved context and customer prefrences to provide the customer with information about available home. Use five sentences maximum and keep the answer attractive. \\nContext: {context} \\nCustomer's prefernced: {chat_history} \\nQuestion: {question}\\nAnswer:\"\n"
     ]
    }
   ],
   "source": [
    "# create a prompt\n",
    "prompt=PromptTemplate(\n",
    "    template=\"You are an sales assistant who buy homes. Use the following pieces of retrieved context and customer prefrences to provide the customer with information about available home. Use five sentences maximum and keep the answer attractive. \\nContext: {context} \\nCustomer's prefernced: {chat_history} \\nQuestion: {question}\\nAnswer:\",\n",
    "    input_variables=['context', 'chat_history', 'question']\n",
    "    )\n",
    "print(prompt)\n",
    "# create question and answer model to retrieve answers from retrived information\n",
    "chain_type_kwargs = {'prompt': prompt}\n",
    "\n",
    "chain = ConversationalRetrievalChain.from_llm(\n",
    "                                llm=llmOpenAI,\n",
    "                                chain_type=\"stuff\",\n",
    "                                retriever=db.as_retriever(),\n",
    "                                combine_docs_chain_kwargs=chain_type_kwargs,\n",
    "                                memory=memory\n",
    "                            )"
   ]
  },
  {
   "cell_type": "code",
   "execution_count": 61,
   "id": "bbc2304e-892e-4696-be9a-6ea7d4b6ecf5",
   "metadata": {
    "scrolled": true
   },
   "outputs": [
    {
     "name": "stdout",
     "output_type": "stream",
     "text": [
      "Imagine coming home to this stunning 3 bedroom, 2 bathroom house located in the vibrant Downtown neighborhood of Seattle. With a spacious house size of 160m², you'll have plenty of room to relax and entertain. And all of this for the amazing price of 1300k€. Don't miss out on this fantastic opportunity to own a beautiful home in the heart of the city!\n"
     ]
    }
   ],
   "source": [
    "query = \"as a sales assisstant, represent the answer in attractive way\"\n",
    "result = chain.invoke({\"question\": query})\n",
    "print(result['answer'])"
   ]
  },
  {
   "cell_type": "markdown",
   "id": "397d41d8-75a9-453f-871c-3e90f3a405f8",
   "metadata": {},
   "source": [
    "Second try: "
   ]
  },
  {
   "cell_type": "code",
   "execution_count": 62,
   "id": "3d897f02-505a-4840-9bab-1b8f816ef9d8",
   "metadata": {},
   "outputs": [],
   "source": [
    "personal_answers = answers = [\n",
    "    \"A comfortable two-bedroom house with a spacious kitchen and a cozy living room.\",\n",
    "    \"A quiet neighborhood, good local schools, and convenient shopping options.\",\n",
    "    \"A energy-efficient house\",\n",
    "    \"Bike-friendly roads.\",\n",
    "    \"Urban amenities like restaurants and theaters.\"\n",
    "]"
   ]
  },
  {
   "cell_type": "code",
   "execution_count": 63,
   "id": "d09166a4-d36a-4fc9-9e17-6baa30824978",
   "metadata": {},
   "outputs": [],
   "source": [
    "history = ChatMessageHistory()\n",
    "history.add_user_message(f\"\"\"You are AI sales assisstant that will recommend user a home based on their answers to personal questions. Ask user {len(personal_questions)} questions\"\"\")\n",
    "for i in range(len(personal_questions)):\n",
    "    history.add_ai_message(personal_questions[i])\n",
    "    history.add_user_message(personal_answers[i])\n",
    "    \n",
    "history.add_ai_message(\"\"\"Now tell me a summary of a home you're considering in points\"\"\")\n",
    "memory = ConversationSummaryMemory(\n",
    "    llm=llmOpenAI,\n",
    "    chat_memory=history,\n",
    "    memory_key=\"chat_history\", \n",
    "    input_key=\"question\",\n",
    "    buffer=f\"The human answered {len(personal_questions)} personal questions. Use them to extract home attributes like location, price, home area and number of rooms\",\n",
    "    return_messages=True)"
   ]
  },
  {
   "cell_type": "code",
   "execution_count": 64,
   "id": "0b7899f5-8dc6-4b88-ba67-048be335c7c1",
   "metadata": {},
   "outputs": [
    {
     "name": "stdout",
     "output_type": "stream",
     "text": [
      "Step right into your dream home in Downtown Seattle with this stunning 3-bedroom, 2-bathroom house boasting a spacious size of 160m², all for an incredible price of 1300k€. Embrace city living at its finest with this amazing opportunity to own a beautiful home in the heart of the bustling downtown area. Don't wait to make this fabulous property yours!\n"
     ]
    }
   ],
   "source": [
    "query = \"as a sales assisstant, represent the answer in attractive way\"\n",
    "result = chain.invoke({\"question\": query})\n",
    "print(result['answer'])"
   ]
  }
 ],
 "metadata": {
  "kernelspec": {
   "display_name": "Python 3 (ipykernel)",
   "language": "python",
   "name": "python3"
  },
  "language_info": {
   "codemirror_mode": {
    "name": "ipython",
    "version": 3
   },
   "file_extension": ".py",
   "mimetype": "text/x-python",
   "name": "python",
   "nbconvert_exporter": "python",
   "pygments_lexer": "ipython3",
   "version": "3.12.3"
  }
 },
 "nbformat": 4,
 "nbformat_minor": 5
}
