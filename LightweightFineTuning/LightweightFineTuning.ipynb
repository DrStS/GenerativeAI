{
 "cells": [
  {
   "cell_type": "code",
   "execution_count": 113,
   "id": "e58844c4-1d17-4d31-850a-0722c024bf61",
   "metadata": {},
   "outputs": [],
   "source": [
    "import torch\n",
    "from transformers import AutoModelForSequenceClassification, AutoTokenizer, TrainingArguments, Trainer, AutoConfig\n",
    "from datasets import load_dataset\n",
    "from peft import LoraConfig, get_peft_model\n",
    "import numpy as np"
   ]
  },
  {
   "cell_type": "code",
   "execution_count": 114,
   "id": "1e4fb821-e63e-46e6-8214-44e6fa1a1fb4",
   "metadata": {},
   "outputs": [
    {
     "name": "stderr",
     "output_type": "stream",
     "text": [
      "Some weights of DistilBertForSequenceClassification were not initialized from the model checkpoint at distilbert-base-uncased and are newly initialized: ['classifier.bias', 'classifier.weight', 'pre_classifier.bias', 'pre_classifier.weight']\n",
      "You should probably TRAIN this model on a down-stream task to be able to use it for predictions and inference.\n"
     ]
    }
   ],
   "source": [
    "# Load pretrained model and tokenizer\n",
    "MODEL_NAME = \"distilbert-base-uncased\"\n",
    "model = AutoModelForSequenceClassification.from_pretrained(MODEL_NAME, num_labels=2)\n",
    "tokenizer = AutoTokenizer.from_pretrained(MODEL_NAME)"
   ]
  },
  {
   "cell_type": "code",
   "execution_count": 115,
   "id": "671bce90-f87b-472f-b2f8-f6fecd787078",
   "metadata": {},
   "outputs": [],
   "source": [
    "# Load and preprocess dataset imdb\n",
    "dataset = load_dataset(\"imdb\")\n",
    "def preprocess_function(examples):\n",
    "    return tokenizer(examples[\"text\"], truncation=True, padding=True)"
   ]
  },
  {
   "cell_type": "code",
   "execution_count": 116,
   "id": "0850c603-10d6-4beb-9fe9-e2f8cab6f478",
   "metadata": {},
   "outputs": [],
   "source": [
    "def compute_metrics(eval_pred):\n",
    "    logits, labels = eval_pred\n",
    "    predictions = np.argmax(logits, axis=-1)\n",
    "    accuracy = np.mean(predictions == labels)\n",
    "    return {\"accuracy\": accuracy}"
   ]
  },
  {
   "cell_type": "code",
   "execution_count": 117,
   "id": "8eeaeb6c-b3e7-40b8-b3ea-d307530f31e1",
   "metadata": {},
   "outputs": [
    {
     "name": "stdout",
     "output_type": "stream",
     "text": [
      "Tokenized dataset size:\n",
      "Train size: 25000\n",
      "Test size: 25000\n",
      "Limited Tokenized dataset size:\n",
      "Train size: 10000\n",
      "Test size: 10000\n"
     ]
    }
   ],
   "source": [
    "tokenized_datasets = dataset.map(preprocess_function, batched=True)\n",
    "print(\"Tokenized dataset size:\")\n",
    "print(\"Train size:\", len(tokenized_datasets[\"train\"]))\n",
    "print(\"Test size:\", len(tokenized_datasets[\"test\"]))\n",
    "# Limit dataset sizes\n",
    "DATA_SET_SIZE_TRAIN = 10000\n",
    "DATA_SET_SIZE_TEST = 10000\n",
    "tokenized_datasets[\"train\"] = tokenized_datasets[\"train\"].select(range(DATA_SET_SIZE_TRAIN))\n",
    "tokenized_datasets[\"test\"] = tokenized_datasets[\"test\"].select(range(DATA_SET_SIZE_TEST))\n",
    "print(\"Limited Tokenized dataset size:\")\n",
    "print(\"Train size:\", len(tokenized_datasets[\"train\"]))\n",
    "print(\"Test size:\", len(tokenized_datasets[\"test\"]))"
   ]
  },
  {
   "cell_type": "code",
   "execution_count": 118,
   "id": "cb23b4f3-ca45-4579-a56c-b300fdac4700",
   "metadata": {},
   "outputs": [
    {
     "data": {
      "text/html": [
       "\n",
       "    <div>\n",
       "      \n",
       "      <progress value='1250' max='1250' style='width:300px; height:20px; vertical-align: middle;'></progress>\n",
       "      [1250/1250 00:21]\n",
       "    </div>\n",
       "    "
      ],
      "text/plain": [
       "<IPython.core.display.HTML object>"
      ]
     },
     "metadata": {},
     "output_type": "display_data"
    },
    {
     "name": "stdout",
     "output_type": "stream",
     "text": [
      "Pretrained Model Accuracy: {'eval_loss': 0.6843681931495667, 'eval_model_preparation_time': 0.0, 'eval_accuracy': 0.7309, 'eval_runtime': 21.181, 'eval_samples_per_second': 472.12, 'eval_steps_per_second': 59.015}\n"
     ]
    }
   ],
   "source": [
    "# Evaluate the pretrained model\n",
    "trainer = Trainer(model=model, compute_metrics=compute_metrics)\n",
    "eval_results = trainer.evaluate(tokenized_datasets[\"test\"])\n",
    "print(\"Pretrained Model Accuracy:\", eval_results)"
   ]
  },
  {
   "cell_type": "code",
   "execution_count": 119,
   "id": "3013ab93-7b40-4eac-8ab8-3d858c917b9d",
   "metadata": {},
   "outputs": [],
   "source": [
    "#for name, module in model.named_modules():\n",
    "#    print(name)"
   ]
  },
  {
   "cell_type": "code",
   "execution_count": 120,
   "id": "bb421d52-f5bd-40a5-8603-94977ad6cd11",
   "metadata": {},
   "outputs": [],
   "source": [
    "# Create and apply PEFT config\n",
    "peft_config = LoraConfig(\n",
    "    r=8, \n",
    "    lora_alpha=32, \n",
    "    lora_dropout=0.1, \n",
    "    target_modules=[\"q_lin\", \"k_lin\", \"v_lin\"]\n",
    ")\n",
    "peft_model = get_peft_model(model, peft_config)"
   ]
  },
  {
   "cell_type": "code",
   "execution_count": 121,
   "id": "18f3e56b-65e0-425f-906b-48ec4732b9f7",
   "metadata": {},
   "outputs": [],
   "source": [
    "# Training the PEFT model\n",
    "training_args = TrainingArguments(\n",
    "    output_dir=\"./peft_model_output\",  # Output directory for saving the model\n",
    "    num_train_epochs=2,                # <======\n",
    "    per_device_train_batch_size=8,     # Adjust batch size\n",
    "    per_device_eval_batch_size=8,      # Adjust evaluation batch size\n",
    "    eval_strategy=\"epoch\",             # Evaluate at the end of each epoch\n",
    "    save_strategy=\"epoch\",             # Save model at the end of each epoch\n",
    "    logging_dir=\"./logs\",              # Directory for logs\n",
    "    logging_steps=10                   # Log every 10 steps\n",
    ")\n",
    "\n",
    "trainer_peft = Trainer(\n",
    "    model=peft_model,\n",
    "    args=training_args,\n",
    "    train_dataset=tokenized_datasets[\"train\"],\n",
    "    eval_dataset=tokenized_datasets[\"test\"],\n",
    "    compute_metrics=compute_metrics\n",
    ")"
   ]
  },
  {
   "cell_type": "code",
   "execution_count": 122,
   "id": "6ea9bf38-f459-4278-b808-7ddc7ce53252",
   "metadata": {},
   "outputs": [
    {
     "name": "stdout",
     "output_type": "stream",
     "text": [
      "Using device: cuda\n"
     ]
    },
    {
     "data": {
      "text/plain": [
       "PeftModel(\n",
       "  (base_model): LoraModel(\n",
       "    (model): DistilBertForSequenceClassification(\n",
       "      (distilbert): DistilBertModel(\n",
       "        (embeddings): Embeddings(\n",
       "          (word_embeddings): Embedding(30522, 768, padding_idx=0)\n",
       "          (position_embeddings): Embedding(512, 768)\n",
       "          (LayerNorm): LayerNorm((768,), eps=1e-12, elementwise_affine=True)\n",
       "          (dropout): Dropout(p=0.1, inplace=False)\n",
       "        )\n",
       "        (transformer): Transformer(\n",
       "          (layer): ModuleList(\n",
       "            (0-5): 6 x TransformerBlock(\n",
       "              (attention): DistilBertSdpaAttention(\n",
       "                (dropout): Dropout(p=0.1, inplace=False)\n",
       "                (q_lin): lora.Linear(\n",
       "                  (base_layer): Linear(in_features=768, out_features=768, bias=True)\n",
       "                  (lora_dropout): ModuleDict(\n",
       "                    (default): Dropout(p=0.1, inplace=False)\n",
       "                  )\n",
       "                  (lora_A): ModuleDict(\n",
       "                    (default): Linear(in_features=768, out_features=8, bias=False)\n",
       "                  )\n",
       "                  (lora_B): ModuleDict(\n",
       "                    (default): Linear(in_features=8, out_features=768, bias=False)\n",
       "                  )\n",
       "                  (lora_embedding_A): ParameterDict()\n",
       "                  (lora_embedding_B): ParameterDict()\n",
       "                  (lora_magnitude_vector): ModuleDict()\n",
       "                )\n",
       "                (k_lin): lora.Linear(\n",
       "                  (base_layer): Linear(in_features=768, out_features=768, bias=True)\n",
       "                  (lora_dropout): ModuleDict(\n",
       "                    (default): Dropout(p=0.1, inplace=False)\n",
       "                  )\n",
       "                  (lora_A): ModuleDict(\n",
       "                    (default): Linear(in_features=768, out_features=8, bias=False)\n",
       "                  )\n",
       "                  (lora_B): ModuleDict(\n",
       "                    (default): Linear(in_features=8, out_features=768, bias=False)\n",
       "                  )\n",
       "                  (lora_embedding_A): ParameterDict()\n",
       "                  (lora_embedding_B): ParameterDict()\n",
       "                  (lora_magnitude_vector): ModuleDict()\n",
       "                )\n",
       "                (v_lin): lora.Linear(\n",
       "                  (base_layer): Linear(in_features=768, out_features=768, bias=True)\n",
       "                  (lora_dropout): ModuleDict(\n",
       "                    (default): Dropout(p=0.1, inplace=False)\n",
       "                  )\n",
       "                  (lora_A): ModuleDict(\n",
       "                    (default): Linear(in_features=768, out_features=8, bias=False)\n",
       "                  )\n",
       "                  (lora_B): ModuleDict(\n",
       "                    (default): Linear(in_features=8, out_features=768, bias=False)\n",
       "                  )\n",
       "                  (lora_embedding_A): ParameterDict()\n",
       "                  (lora_embedding_B): ParameterDict()\n",
       "                  (lora_magnitude_vector): ModuleDict()\n",
       "                )\n",
       "                (out_lin): Linear(in_features=768, out_features=768, bias=True)\n",
       "              )\n",
       "              (sa_layer_norm): LayerNorm((768,), eps=1e-12, elementwise_affine=True)\n",
       "              (ffn): FFN(\n",
       "                (dropout): Dropout(p=0.1, inplace=False)\n",
       "                (lin1): Linear(in_features=768, out_features=3072, bias=True)\n",
       "                (lin2): Linear(in_features=3072, out_features=768, bias=True)\n",
       "                (activation): GELUActivation()\n",
       "              )\n",
       "              (output_layer_norm): LayerNorm((768,), eps=1e-12, elementwise_affine=True)\n",
       "            )\n",
       "          )\n",
       "        )\n",
       "      )\n",
       "      (pre_classifier): Linear(in_features=768, out_features=768, bias=True)\n",
       "      (classifier): Linear(in_features=768, out_features=2, bias=True)\n",
       "      (dropout): Dropout(p=0.2, inplace=False)\n",
       "    )\n",
       "  )\n",
       ")"
      ]
     },
     "execution_count": 122,
     "metadata": {},
     "output_type": "execute_result"
    }
   ],
   "source": [
    "# Check if GPU is available\n",
    "device = torch.device('cuda' if torch.cuda.is_available() else 'cpu')\n",
    "print('Using device:', device)\n",
    "\n",
    "# To make sure the model uses the GPU:\n",
    "trainer_peft.model.to(device)"
   ]
  },
  {
   "cell_type": "code",
   "execution_count": 123,
   "id": "40ecffa8-faf2-4cd7-bba2-4eddc49ed7bd",
   "metadata": {},
   "outputs": [
    {
     "data": {
      "text/html": [
       "\n",
       "    <div>\n",
       "      \n",
       "      <progress value='2500' max='2500' style='width:300px; height:20px; vertical-align: middle;'></progress>\n",
       "      [2500/2500 02:28, Epoch 2/2]\n",
       "    </div>\n",
       "    <table border=\"1\" class=\"dataframe\">\n",
       "  <thead>\n",
       " <tr style=\"text-align: left;\">\n",
       "      <th>Epoch</th>\n",
       "      <th>Training Loss</th>\n",
       "      <th>Validation Loss</th>\n",
       "    </tr>\n",
       "  </thead>\n",
       "  <tbody>\n",
       "    <tr>\n",
       "      <td>1</td>\n",
       "      <td>0.009000</td>\n",
       "      <td>No log</td>\n",
       "    </tr>\n",
       "    <tr>\n",
       "      <td>2</td>\n",
       "      <td>0.007900</td>\n",
       "      <td>No log</td>\n",
       "    </tr>\n",
       "  </tbody>\n",
       "</table><p>"
      ],
      "text/plain": [
       "<IPython.core.display.HTML object>"
      ]
     },
     "metadata": {},
     "output_type": "display_data"
    },
    {
     "data": {
      "text/plain": [
       "TrainOutput(global_step=2500, training_loss=0.03174898165762424, metrics={'train_runtime': 148.5623, 'train_samples_per_second': 134.624, 'train_steps_per_second': 16.828, 'total_flos': 2662937518080000.0, 'train_loss': 0.03174898165762424, 'epoch': 2.0})"
      ]
     },
     "execution_count": 123,
     "metadata": {},
     "output_type": "execute_result"
    }
   ],
   "source": [
    "# Train the PEFT model\n",
    "trainer_peft.train()"
   ]
  },
  {
   "cell_type": "code",
   "execution_count": 124,
   "id": "d16e64a7-36ce-44ec-b33e-282eb678d7d7",
   "metadata": {},
   "outputs": [],
   "source": [
    "# Save the fine-tuned PEFT model\n",
    "peft_model.save_pretrained(\"./peft_model_output\")"
   ]
  },
  {
   "cell_type": "code",
   "execution_count": 125,
   "id": "86c20b5f-dbc8-4aff-83c0-f3c3f649a883",
   "metadata": {},
   "outputs": [
    {
     "name": "stderr",
     "output_type": "stream",
     "text": [
      "Some weights of DistilBertForSequenceClassification were not initialized from the model checkpoint at distilbert-base-uncased and are newly initialized: ['classifier.bias', 'classifier.weight', 'pre_classifier.bias', 'pre_classifier.weight']\n",
      "You should probably TRAIN this model on a down-stream task to be able to use it for predictions and inference.\n"
     ]
    }
   ],
   "source": [
    "# Load the saved PEFT model for inference\n",
    "peft_model_loaded = AutoModelForSequenceClassification.from_pretrained(\"./peft_model_output\")\n",
    "trainer_peft_loaded = Trainer(\n",
    "    model=peft_model_loaded,\n",
    "    args=training_args,\n",
    "    train_dataset=tokenized_datasets[\"train\"],\n",
    "    eval_dataset=tokenized_datasets[\"test\"],\n",
    "    compute_metrics=compute_metrics\n",
    ")"
   ]
  },
  {
   "cell_type": "code",
   "execution_count": 126,
   "id": "870b71bd-25e2-48b1-8588-ee55888180f0",
   "metadata": {},
   "outputs": [
    {
     "data": {
      "text/html": [
       "\n",
       "    <div>\n",
       "      \n",
       "      <progress value='1250' max='1250' style='width:300px; height:20px; vertical-align: middle;'></progress>\n",
       "      [1250/1250 00:22]\n",
       "    </div>\n",
       "    "
      ],
      "text/plain": [
       "<IPython.core.display.HTML object>"
      ]
     },
     "metadata": {},
     "output_type": "display_data"
    }
   ],
   "source": [
    "# Evaluate the fine-tuned PEFT model\n",
    "eval_results_peft = trainer_peft_loaded.evaluate(tokenized_datasets[\"test\"])"
   ]
  },
  {
   "cell_type": "code",
   "execution_count": 127,
   "id": "dc3a34fd-00b2-47be-ae30-47a50de35b27",
   "metadata": {},
   "outputs": [
    {
     "name": "stdout",
     "output_type": "stream",
     "text": [
      "Base Model Accuracy: {'eval_loss': 0.6843681931495667, 'eval_model_preparation_time': 0.001, 'eval_accuracy': 0.7309, 'eval_runtime': 21.5145, 'eval_samples_per_second': 464.803, 'eval_steps_per_second': 58.1}\n",
      "Fine-Tuned PEFT Model Accuracy: {'eval_loss': 0.5503780245780945, 'eval_model_preparation_time': 0.0021, 'eval_accuracy': 1.0, 'eval_runtime': 22.7575, 'eval_samples_per_second': 439.415, 'eval_steps_per_second': 54.927}\n"
     ]
    }
   ],
   "source": [
    "# Compare the fine-tuned PEFT model to the original pretrained model\n",
    "print(\"Base Model Accuracy:\", eval_results_base)\n",
    "print(\"Fine-Tuned PEFT Model Accuracy:\", eval_results_peft)"
   ]
  },
  {
   "cell_type": "code",
   "execution_count": 128,
   "id": "bd467148-69b5-4287-8879-66276e23104e",
   "metadata": {},
   "outputs": [
    {
     "name": "stdout",
     "output_type": "stream",
     "text": [
      "Original Text: I rented I AM CURIOUS-YELLOW from my video store because of all the controversy that surrounded it when it was first released in 1967. I also heard that at first it was seized by U.S. customs if it ever tried to enter this country, therefore being a fan of films considered \"controversial\" I really had to see this for myself.<br /><br />The plot is centered around a young Swedish drama student named Lena who wants to learn everything she can about life. In particular she wants to focus her attentions to making some sort of documentary on what the average Swede thought about certain political issues such as the Vietnam War and race issues in the United States. In between asking politicians and ordinary denizens of Stockholm about their opinions on politics, she has sex with her drama teacher, classmates, and married men.<br /><br />What kills me about I AM CURIOUS-YELLOW is that 40 years ago, this was considered pornographic. Really, the sex and nudity scenes are few and far between, even then it's not shot like some cheaply made porno. While my countrymen mind find it shocking, in reality sex and nudity are a major staple in Swedish cinema. Even Ingmar Bergman, arguably their answer to good old boy John Ford, had sex scenes in his films.<br /><br />I do commend the filmmakers for the fact that any sex shown in the film is shown for artistic purposes rather than just to shock people and make money to be shown in pornographic theaters in America. I AM CURIOUS-YELLOW is a good film for anyone wanting to study the meat and potatoes (no pun intended) of Swedish cinema. But really, this film doesn't have much of a plot.\n"
     ]
    }
   ],
   "source": [
    "print(\"Original Text:\", tokenized_datasets[\"train\"][0][\"text\"]) "
   ]
  },
  {
   "cell_type": "code",
   "execution_count": null,
   "id": "4f8f5ccf-d9bf-4f0b-b848-646daf620283",
   "metadata": {},
   "outputs": [],
   "source": []
  }
 ],
 "metadata": {
  "kernelspec": {
   "display_name": "Python 3 (ipykernel)",
   "language": "python",
   "name": "python3"
  },
  "language_info": {
   "codemirror_mode": {
    "name": "ipython",
    "version": 3
   },
   "file_extension": ".py",
   "mimetype": "text/x-python",
   "name": "python",
   "nbconvert_exporter": "python",
   "pygments_lexer": "ipython3",
   "version": "3.12.3"
  }
 },
 "nbformat": 4,
 "nbformat_minor": 5
}
