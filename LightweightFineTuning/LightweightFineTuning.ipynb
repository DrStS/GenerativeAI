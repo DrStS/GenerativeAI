{
 "cells": [
  {
   "cell_type": "code",
   "execution_count": 1,
   "id": "85623394-9177-47f7-b6ca-9b89532c2af6",
   "metadata": {},
   "outputs": [
    {
     "name": "stderr",
     "output_type": "stream",
     "text": [
      "C:\\Users\\stefa\\anaconda3\\envs\\cuda\\Lib\\site-packages\\tqdm\\auto.py:21: TqdmWarning: IProgress not found. Please update jupyter and ipywidgets. See https://ipywidgets.readthedocs.io/en/stable/user_install.html\n",
      "  from .autonotebook import tqdm as notebook_tqdm\n"
     ]
    }
   ],
   "source": [
    "from datasets import load_dataset\n",
    "from transformers import AutoTokenizer,TrainingArguments, Trainer, BertForSequenceClassification\n",
    "from peft import LoraConfig, TaskType, get_peft_model, AutoPeftModelForSequenceClassification\n",
    "import numpy as np\n",
    "import evaluate\n",
    "import torch"
   ]
  },
  {
   "cell_type": "code",
   "execution_count": 2,
   "id": "dfdefe91-6d96-4176-ae26-61b0275c3c4e",
   "metadata": {},
   "outputs": [],
   "source": [
    "#Load Dataset IMDB - Movie DataBase\n",
    "dataset = load_dataset(\"imdb\")"
   ]
  },
  {
   "cell_type": "code",
   "execution_count": 3,
   "id": "230ea50a-8478-4f3a-adf6-c684e5277e47",
   "metadata": {},
   "outputs": [],
   "source": [
    "#Load tokenizer and tokenize dataset\n",
    "tokenizer = AutoTokenizer.from_pretrained(\"bert-base-cased\")\n",
    "def tokenize_function(examples):\n",
    "    return tokenizer(examples[\"text\"], padding=\"max_length\", truncation=True)\n",
    "tokenized_datasets = dataset.map(tokenize_function, batched=True)"
   ]
  },
  {
   "cell_type": "code",
   "execution_count": 4,
   "id": "410356fb-7ca0-4dfd-ab71-589dc230d72f",
   "metadata": {},
   "outputs": [],
   "source": [
    "#Dataset split\n",
    "LEN_TRAIN = 5000 #len(tokenized_datasets[\"train\"])\n",
    "LEN_TEST = 1500 #len(tokenized_datasets[\"test\"])\n",
    "small_train_dataset = tokenized_datasets[\"train\"].shuffle(seed=42).select(range(LEN_TRAIN))\n",
    "small_eval_dataset = tokenized_datasets[\"test\"].shuffle(seed=42).select(range(LEN_TEST))"
   ]
  },
  {
   "cell_type": "code",
   "execution_count": 5,
   "id": "4845d04f-a929-4c56-976f-864c1ccddc72",
   "metadata": {},
   "outputs": [],
   "source": [
    "# Create and apply PEFT config\n",
    "lora_config = LoraConfig(\n",
    "    task_type=TaskType.SEQ_CLS, r=1, lora_alpha=1, lora_dropout=0.1\n",
    ")"
   ]
  },
  {
   "cell_type": "code",
   "execution_count": 6,
   "id": "8f26adfb-d252-4d89-9ec8-66d1cf4597cf",
   "metadata": {},
   "outputs": [
    {
     "name": "stderr",
     "output_type": "stream",
     "text": [
      "Some weights of BertForSequenceClassification were not initialized from the model checkpoint at bert-base-cased and are newly initialized: ['classifier.bias', 'classifier.weight']\n",
      "You should probably TRAIN this model on a down-stream task to be able to use it for predictions and inference.\n"
     ]
    }
   ],
   "source": [
    "#load pretrained BERT\n",
    "model = BertForSequenceClassification.from_pretrained(\n",
    "    'bert-base-cased', \n",
    "    num_labels=2\n",
    ")"
   ]
  },
  {
   "cell_type": "code",
   "execution_count": 7,
   "id": "a12a6021-f15f-4d7a-9b1e-687230609534",
   "metadata": {},
   "outputs": [],
   "source": [
    "# Apply PEFT and LORA\n",
    "model = get_peft_model(model, lora_config)"
   ]
  },
  {
   "cell_type": "code",
   "execution_count": 8,
   "id": "6cab9c41-fc69-49f8-9291-1cf61052e230",
   "metadata": {},
   "outputs": [],
   "source": [
    "# Define evalute metric\n",
    "metric = evaluate.load(\"accuracy\")\n",
    "def compute_metrics(eval_pred):\n",
    "    logits, labels = eval_pred\n",
    "    predictions = np.argmax(logits, axis=-1)\n",
    "    return metric.compute(predictions=predictions, references=labels)"
   ]
  },
  {
   "cell_type": "code",
   "execution_count": 9,
   "id": "a8960945-ed1b-4ec6-8e6e-3c72a65ddd76",
   "metadata": {},
   "outputs": [],
   "source": [
    "training_args = TrainingArguments(\n",
    "        output_dir=\"./peft_model_output\", \n",
    "        eval_strategy=\"epoch\",\n",
    "        num_train_epochs=12\n",
    ")"
   ]
  },
  {
   "cell_type": "code",
   "execution_count": 10,
   "id": "d4817ce0-30ff-4bf1-b1f7-d8925a4e86a3",
   "metadata": {},
   "outputs": [],
   "source": [
    "trainer = Trainer(\n",
    "    model=model,\n",
    "    args=training_args,\n",
    "    train_dataset=small_train_dataset,\n",
    "    eval_dataset=small_eval_dataset,\n",
    "    compute_metrics=compute_metrics,\n",
    ")"
   ]
  },
  {
   "cell_type": "code",
   "execution_count": 11,
   "id": "134a9959-98d9-4bf4-bfac-e96d8e016f49",
   "metadata": {},
   "outputs": [
    {
     "name": "stdout",
     "output_type": "stream",
     "text": [
      "Using device: cuda\n"
     ]
    },
    {
     "data": {
      "text/plain": [
       "PeftModelForSequenceClassification(\n",
       "  (base_model): LoraModel(\n",
       "    (model): BertForSequenceClassification(\n",
       "      (bert): BertModel(\n",
       "        (embeddings): BertEmbeddings(\n",
       "          (word_embeddings): Embedding(28996, 768, padding_idx=0)\n",
       "          (position_embeddings): Embedding(512, 768)\n",
       "          (token_type_embeddings): Embedding(2, 768)\n",
       "          (LayerNorm): LayerNorm((768,), eps=1e-12, elementwise_affine=True)\n",
       "          (dropout): Dropout(p=0.1, inplace=False)\n",
       "        )\n",
       "        (encoder): BertEncoder(\n",
       "          (layer): ModuleList(\n",
       "            (0-11): 12 x BertLayer(\n",
       "              (attention): BertAttention(\n",
       "                (self): BertSdpaSelfAttention(\n",
       "                  (query): lora.Linear(\n",
       "                    (base_layer): Linear(in_features=768, out_features=768, bias=True)\n",
       "                    (lora_dropout): ModuleDict(\n",
       "                      (default): Dropout(p=0.1, inplace=False)\n",
       "                    )\n",
       "                    (lora_A): ModuleDict(\n",
       "                      (default): Linear(in_features=768, out_features=1, bias=False)\n",
       "                    )\n",
       "                    (lora_B): ModuleDict(\n",
       "                      (default): Linear(in_features=1, out_features=768, bias=False)\n",
       "                    )\n",
       "                    (lora_embedding_A): ParameterDict()\n",
       "                    (lora_embedding_B): ParameterDict()\n",
       "                    (lora_magnitude_vector): ModuleDict()\n",
       "                  )\n",
       "                  (key): Linear(in_features=768, out_features=768, bias=True)\n",
       "                  (value): lora.Linear(\n",
       "                    (base_layer): Linear(in_features=768, out_features=768, bias=True)\n",
       "                    (lora_dropout): ModuleDict(\n",
       "                      (default): Dropout(p=0.1, inplace=False)\n",
       "                    )\n",
       "                    (lora_A): ModuleDict(\n",
       "                      (default): Linear(in_features=768, out_features=1, bias=False)\n",
       "                    )\n",
       "                    (lora_B): ModuleDict(\n",
       "                      (default): Linear(in_features=1, out_features=768, bias=False)\n",
       "                    )\n",
       "                    (lora_embedding_A): ParameterDict()\n",
       "                    (lora_embedding_B): ParameterDict()\n",
       "                    (lora_magnitude_vector): ModuleDict()\n",
       "                  )\n",
       "                  (dropout): Dropout(p=0.1, inplace=False)\n",
       "                )\n",
       "                (output): BertSelfOutput(\n",
       "                  (dense): Linear(in_features=768, out_features=768, bias=True)\n",
       "                  (LayerNorm): LayerNorm((768,), eps=1e-12, elementwise_affine=True)\n",
       "                  (dropout): Dropout(p=0.1, inplace=False)\n",
       "                )\n",
       "              )\n",
       "              (intermediate): BertIntermediate(\n",
       "                (dense): Linear(in_features=768, out_features=3072, bias=True)\n",
       "                (intermediate_act_fn): GELUActivation()\n",
       "              )\n",
       "              (output): BertOutput(\n",
       "                (dense): Linear(in_features=3072, out_features=768, bias=True)\n",
       "                (LayerNorm): LayerNorm((768,), eps=1e-12, elementwise_affine=True)\n",
       "                (dropout): Dropout(p=0.1, inplace=False)\n",
       "              )\n",
       "            )\n",
       "          )\n",
       "        )\n",
       "        (pooler): BertPooler(\n",
       "          (dense): Linear(in_features=768, out_features=768, bias=True)\n",
       "          (activation): Tanh()\n",
       "        )\n",
       "      )\n",
       "      (dropout): Dropout(p=0.1, inplace=False)\n",
       "      (classifier): ModulesToSaveWrapper(\n",
       "        (original_module): Linear(in_features=768, out_features=2, bias=True)\n",
       "        (modules_to_save): ModuleDict(\n",
       "          (default): Linear(in_features=768, out_features=2, bias=True)\n",
       "        )\n",
       "      )\n",
       "    )\n",
       "  )\n",
       ")"
      ]
     },
     "execution_count": 11,
     "metadata": {},
     "output_type": "execute_result"
    }
   ],
   "source": [
    "# Check if GPU is available\n",
    "device = torch.device('cuda' if torch.cuda.is_available() else 'cpu')\n",
    "print('Using device:', device)\n",
    "\n",
    "# To make sure the model uses the GPU:\n",
    "trainer.model.to(device)"
   ]
  },
  {
   "cell_type": "code",
   "execution_count": 12,
   "id": "95439abf-c74a-4122-8663-f26980b1d5bf",
   "metadata": {},
   "outputs": [
    {
     "data": {
      "text/html": [
       "\n",
       "    <div>\n",
       "      \n",
       "      <progress value='376' max='188' style='width:300px; height:20px; vertical-align: middle;'></progress>\n",
       "      [188/188 00:58]\n",
       "    </div>\n",
       "    "
      ],
      "text/plain": [
       "<IPython.core.display.HTML object>"
      ]
     },
     "metadata": {},
     "output_type": "display_data"
    },
    {
     "name": "stdout",
     "output_type": "stream",
     "text": [
      "Pretrained Model Accuracy: {'eval_loss': 0.7065376043319702, 'eval_model_preparation_time': 0.0063, 'eval_accuracy': 0.45866666666666667, 'eval_runtime': 6.249, 'eval_samples_per_second': 240.038, 'eval_steps_per_second': 30.085}\n"
     ]
    }
   ],
   "source": [
    "eval_results_base = trainer.evaluate(small_eval_dataset)\n",
    "print(\"Pretrained Model Accuracy:\", eval_results_base)"
   ]
  },
  {
   "cell_type": "code",
   "execution_count": 13,
   "id": "5320b240-460c-42b3-acae-4bb0f11a0633",
   "metadata": {},
   "outputs": [
    {
     "data": {
      "text/html": [
       "\n",
       "    <div>\n",
       "      \n",
       "      <progress value='7500' max='7500' style='width:300px; height:20px; vertical-align: middle;'></progress>\n",
       "      [7500/7500 11:02, Epoch 12/12]\n",
       "    </div>\n",
       "    <table border=\"1\" class=\"dataframe\">\n",
       "  <thead>\n",
       " <tr style=\"text-align: left;\">\n",
       "      <th>Epoch</th>\n",
       "      <th>Training Loss</th>\n",
       "      <th>Validation Loss</th>\n",
       "      <th>Model Preparation Time</th>\n",
       "      <th>Accuracy</th>\n",
       "    </tr>\n",
       "  </thead>\n",
       "  <tbody>\n",
       "    <tr>\n",
       "      <td>1</td>\n",
       "      <td>0.690400</td>\n",
       "      <td>0.630910</td>\n",
       "      <td>0.006300</td>\n",
       "      <td>0.650000</td>\n",
       "    </tr>\n",
       "    <tr>\n",
       "      <td>2</td>\n",
       "      <td>0.603200</td>\n",
       "      <td>0.423721</td>\n",
       "      <td>0.006300</td>\n",
       "      <td>0.804667</td>\n",
       "    </tr>\n",
       "    <tr>\n",
       "      <td>3</td>\n",
       "      <td>0.438300</td>\n",
       "      <td>0.343960</td>\n",
       "      <td>0.006300</td>\n",
       "      <td>0.859333</td>\n",
       "    </tr>\n",
       "    <tr>\n",
       "      <td>4</td>\n",
       "      <td>0.338100</td>\n",
       "      <td>0.326415</td>\n",
       "      <td>0.006300</td>\n",
       "      <td>0.864667</td>\n",
       "    </tr>\n",
       "    <tr>\n",
       "      <td>5</td>\n",
       "      <td>0.319400</td>\n",
       "      <td>0.315533</td>\n",
       "      <td>0.006300</td>\n",
       "      <td>0.874000</td>\n",
       "    </tr>\n",
       "    <tr>\n",
       "      <td>6</td>\n",
       "      <td>0.319100</td>\n",
       "      <td>0.311139</td>\n",
       "      <td>0.006300</td>\n",
       "      <td>0.877333</td>\n",
       "    </tr>\n",
       "    <tr>\n",
       "      <td>7</td>\n",
       "      <td>0.309700</td>\n",
       "      <td>0.314885</td>\n",
       "      <td>0.006300</td>\n",
       "      <td>0.881333</td>\n",
       "    </tr>\n",
       "    <tr>\n",
       "      <td>8</td>\n",
       "      <td>0.301400</td>\n",
       "      <td>0.300586</td>\n",
       "      <td>0.006300</td>\n",
       "      <td>0.882000</td>\n",
       "    </tr>\n",
       "    <tr>\n",
       "      <td>9</td>\n",
       "      <td>0.292700</td>\n",
       "      <td>0.299603</td>\n",
       "      <td>0.006300</td>\n",
       "      <td>0.882000</td>\n",
       "    </tr>\n",
       "    <tr>\n",
       "      <td>10</td>\n",
       "      <td>0.289500</td>\n",
       "      <td>0.296611</td>\n",
       "      <td>0.006300</td>\n",
       "      <td>0.882667</td>\n",
       "    </tr>\n",
       "    <tr>\n",
       "      <td>11</td>\n",
       "      <td>0.292000</td>\n",
       "      <td>0.300729</td>\n",
       "      <td>0.006300</td>\n",
       "      <td>0.886667</td>\n",
       "    </tr>\n",
       "    <tr>\n",
       "      <td>12</td>\n",
       "      <td>0.293200</td>\n",
       "      <td>0.297775</td>\n",
       "      <td>0.006300</td>\n",
       "      <td>0.884667</td>\n",
       "    </tr>\n",
       "  </tbody>\n",
       "</table><p>"
      ],
      "text/plain": [
       "<IPython.core.display.HTML object>"
      ]
     },
     "metadata": {},
     "output_type": "display_data"
    },
    {
     "data": {
      "text/plain": [
       "TrainOutput(global_step=7500, training_loss=0.3642292195638021, metrics={'train_runtime': 662.858, 'train_samples_per_second': 90.517, 'train_steps_per_second': 11.315, 'total_flos': 1.579374157824e+16, 'train_loss': 0.3642292195638021, 'epoch': 12.0})"
      ]
     },
     "execution_count": 13,
     "metadata": {},
     "output_type": "execute_result"
    }
   ],
   "source": [
    "trainer.train()"
   ]
  },
  {
   "cell_type": "code",
   "execution_count": 14,
   "id": "91d78a72-e030-4baf-9ac4-a7bb60e093c0",
   "metadata": {},
   "outputs": [],
   "source": [
    "# Save the fine-tuned PEFT model\n",
    "model.save_pretrained(\"./peft_finetuned_save\")"
   ]
  },
  {
   "cell_type": "code",
   "execution_count": 15,
   "id": "981aa860-d3f8-432d-9a35-746d7e85553c",
   "metadata": {},
   "outputs": [
    {
     "name": "stderr",
     "output_type": "stream",
     "text": [
      "Some weights of BertForSequenceClassification were not initialized from the model checkpoint at bert-base-cased and are newly initialized: ['classifier.bias', 'classifier.weight']\n",
      "You should probably TRAIN this model on a down-stream task to be able to use it for predictions and inference.\n"
     ]
    }
   ],
   "source": [
    "#Load the fine-tuned PEFT model and tokenizer\n",
    "model_name_saved = \"./peft_finetuned_save\"  # Path to your fine-tuned PEFT model (could be a local path or from Hugging Face Hub)\n",
    "model_infer = AutoPeftModelForSequenceClassification.from_pretrained(model_name_saved)\n",
    "trainer_infer = Trainer(\n",
    "    model=model_infer,\n",
    "    train_dataset=small_train_dataset,\n",
    "    eval_dataset=small_eval_dataset,\n",
    "    compute_metrics=compute_metrics,\n",
    ")"
   ]
  },
  {
   "cell_type": "code",
   "execution_count": 16,
   "id": "f26ac336-c883-44f8-a6a0-7c07f5652dad",
   "metadata": {},
   "outputs": [
    {
     "data": {
      "text/html": [
       "\n",
       "    <div>\n",
       "      \n",
       "      <progress value='188' max='188' style='width:300px; height:20px; vertical-align: middle;'></progress>\n",
       "      [188/188 00:07]\n",
       "    </div>\n",
       "    "
      ],
      "text/plain": [
       "<IPython.core.display.HTML object>"
      ]
     },
     "metadata": {},
     "output_type": "display_data"
    }
   ],
   "source": [
    "eval_results_peft=trainer_infer.evaluate(small_eval_dataset)"
   ]
  },
  {
   "cell_type": "code",
   "execution_count": 17,
   "id": "cde62ed9-bc4d-42fe-95a9-e8fee4802526",
   "metadata": {},
   "outputs": [
    {
     "name": "stdout",
     "output_type": "stream",
     "text": [
      "Base Model Accuracy: {'eval_loss': 0.7065376043319702, 'eval_model_preparation_time': 0.0063, 'eval_accuracy': 0.45866666666666667, 'eval_runtime': 6.249, 'eval_samples_per_second': 240.038, 'eval_steps_per_second': 30.085}\n",
      "Fine-Tuned PEFT Model Accuracy: {'eval_loss': 0.2977752685546875, 'eval_model_preparation_time': 0.0066, 'eval_accuracy': 0.8846666666666667, 'eval_runtime': 7.5775, 'eval_samples_per_second': 197.956, 'eval_steps_per_second': 24.81}\n"
     ]
    }
   ],
   "source": [
    "print(\"Base Model Accuracy:\", eval_results_base)\n",
    "print(\"Fine-Tuned PEFT Model Accuracy:\", eval_results_peft)"
   ]
  },
  {
   "cell_type": "code",
   "execution_count": null,
   "id": "a6c5d432-61c4-4ae9-835d-2d67dae4304f",
   "metadata": {},
   "outputs": [],
   "source": []
  }
 ],
 "metadata": {
  "kernelspec": {
   "display_name": "Python 3 (ipykernel)",
   "language": "python",
   "name": "python3"
  },
  "language_info": {
   "codemirror_mode": {
    "name": "ipython",
    "version": 3
   },
   "file_extension": ".py",
   "mimetype": "text/x-python",
   "name": "python",
   "nbconvert_exporter": "python",
   "pygments_lexer": "ipython3",
   "version": "3.12.3"
  }
 },
 "nbformat": 4,
 "nbformat_minor": 5
}
